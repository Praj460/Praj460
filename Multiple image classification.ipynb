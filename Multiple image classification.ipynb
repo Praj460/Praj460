{
 "cells": [
  {
   "cell_type": "code",
   "execution_count": 3,
   "id": "22a13422",
   "metadata": {},
   "outputs": [
    {
     "ename": "AttributeError",
     "evalue": "module 'keras.backend' has no attribute 'set_image_dim_ordering'",
     "output_type": "error",
     "traceback": [
      "\u001b[1;31m---------------------------------------------------------------------------\u001b[0m",
      "\u001b[1;31mAttributeError\u001b[0m                            Traceback (most recent call last)",
      "Input \u001b[1;32mIn [3]\u001b[0m, in \u001b[0;36m<cell line: 8>\u001b[1;34m()\u001b[0m\n\u001b[0;32m      6\u001b[0m \u001b[38;5;28;01mfrom\u001b[39;00m \u001b[38;5;21;01mkeras\u001b[39;00m\u001b[38;5;21;01m.\u001b[39;00m\u001b[38;5;21;01mutils\u001b[39;00m \u001b[38;5;28;01mimport\u001b[39;00m np_utils \n\u001b[0;32m      7\u001b[0m \u001b[38;5;28;01mfrom\u001b[39;00m \u001b[38;5;21;01mkeras\u001b[39;00m \u001b[38;5;28;01mimport\u001b[39;00m backend \u001b[38;5;28;01mas\u001b[39;00m K\n\u001b[1;32m----> 8\u001b[0m \u001b[43mK\u001b[49m\u001b[38;5;241;43m.\u001b[39;49m\u001b[43mset_image_dim_ordering\u001b[49m(\u001b[38;5;124m'\u001b[39m\u001b[38;5;124mtf\u001b[39m\u001b[38;5;124m'\u001b[39m)\n",
      "\u001b[1;31mAttributeError\u001b[0m: module 'keras.backend' has no attribute 'set_image_dim_ordering'"
     ]
    }
   ],
   "source": [
    "import numpy\n",
    "from keras.models import Sequential\n",
    "from keras.layers import Dense,Dropout,Flatten,Conv2D,MaxPooling2D\n",
    "from keras.constraints import maxnorm\n",
    "from keras.optimizers import SGD\n",
    "from keras.utils import np_utils \n",
    "from keras import backend as K\n",
    "K.set_image_dim_ordering('tf')\n"
   ]
  },
  {
   "cell_type": "code",
   "execution_count": 11,
   "id": "90bef268",
   "metadata": {},
   "outputs": [],
   "source": [
    "from keras.datasets import cifar10\n",
    "# let's load data \n",
    "(X_train, y_train), (X_test, y_test) = cifar10.load_data()"
   ]
  },
  {
   "cell_type": "code",
   "execution_count": 12,
   "id": "77cfbbb5",
   "metadata": {},
   "outputs": [],
   "source": [
    "#normalizing inputs from 0-255 to 0.0-1.0 \n",
    "X_train = X_train.astype('float32') \n",
    "X_test = X_test.astype('float32') \n",
    "X_train = X_train / 255.0 \n",
    "X_test = X_test / 255.0"
   ]
  },
  {
   "cell_type": "code",
   "execution_count": 13,
   "id": "7dc6e8d0",
   "metadata": {},
   "outputs": [],
   "source": [
    "# one hot encode outputs \n",
    "y_train = np_utils.to_categorical(y_train) \n",
    "y_test = np_utils.to_categorical(y_test) \n",
    "num_classes = y_test.shape[1]"
   ]
  },
  {
   "cell_type": "code",
   "execution_count": 14,
   "id": "c538c014",
   "metadata": {},
   "outputs": [],
   "source": [
    "# Create the model \n",
    "model = Sequential()"
   ]
  },
  {
   "cell_type": "code",
   "execution_count": 15,
   "id": "220989f4",
   "metadata": {},
   "outputs": [],
   "source": [
    "model.add(Conv2D(32, (3, 3), input_shape=(32,32,3), activation='relu', padding='same')) \n",
    "model.add(Dropout(0.2)) \n",
    "model.add(Conv2D(32, (3, 3), activation='relu', padding='same')) \n",
    "model.add(MaxPooling2D(pool_size=(2, 2))) \n",
    "model.add(Conv2D(64, (3, 3), activation='relu', padding='same')) \n",
    "model.add(Dropout(0.2)) \n",
    "model.add(Conv2D(64, (3, 3), activation='relu', padding='same')) \n",
    "model.add(MaxPooling2D(pool_size=(2, 2))) \n",
    "model.add(Conv2D(128, (3, 3), activation='relu', padding='same')) \n",
    "model.add(Dropout(0.2)) \n",
    "model.add(Conv2D(128, (3, 3), activation='relu', padding='same')) \n",
    "model.add(MaxPooling2D(pool_size=(2, 2))) \n",
    "model.add(Flatten()) \n",
    "model.add(Dropout(0.2)) \n",
    "model.add(Dense(1024, activation='relu', kernel_constraint=maxnorm(3))) \n",
    "model.add(Dropout(0.2)) \n",
    "model.add(Dense(512, activation='relu', kernel_constraint=maxnorm(3))) \n",
    "model.add(Dropout(0.2)) \n",
    "model.add(Dense(num_classes, activation='softmax'))"
   ]
  },
  {
   "cell_type": "code",
   "execution_count": 16,
   "id": "d3e4295a",
   "metadata": {},
   "outputs": [
    {
     "name": "stdout",
     "output_type": "stream",
     "text": [
      "Model: \"sequential_1\"\n",
      "_________________________________________________________________\n",
      " Layer (type)                Output Shape              Param #   \n",
      "=================================================================\n",
      " conv2d_6 (Conv2D)           (None, 32, 32, 32)        896       \n",
      "                                                                 \n",
      " dropout_6 (Dropout)         (None, 32, 32, 32)        0         \n",
      "                                                                 \n",
      " conv2d_7 (Conv2D)           (None, 32, 32, 32)        9248      \n",
      "                                                                 \n",
      " max_pooling2d_3 (MaxPooling  (None, 16, 16, 32)       0         \n",
      " 2D)                                                             \n",
      "                                                                 \n",
      " conv2d_8 (Conv2D)           (None, 16, 16, 64)        18496     \n",
      "                                                                 \n",
      " dropout_7 (Dropout)         (None, 16, 16, 64)        0         \n",
      "                                                                 \n",
      " conv2d_9 (Conv2D)           (None, 16, 16, 64)        36928     \n",
      "                                                                 \n",
      " max_pooling2d_4 (MaxPooling  (None, 8, 8, 64)         0         \n",
      " 2D)                                                             \n",
      "                                                                 \n",
      " conv2d_10 (Conv2D)          (None, 8, 8, 128)         73856     \n",
      "                                                                 \n",
      " dropout_8 (Dropout)         (None, 8, 8, 128)         0         \n",
      "                                                                 \n",
      " conv2d_11 (Conv2D)          (None, 8, 8, 128)         147584    \n",
      "                                                                 \n",
      " max_pooling2d_5 (MaxPooling  (None, 4, 4, 128)        0         \n",
      " 2D)                                                             \n",
      "                                                                 \n",
      " flatten_1 (Flatten)         (None, 2048)              0         \n",
      "                                                                 \n",
      " dropout_9 (Dropout)         (None, 2048)              0         \n",
      "                                                                 \n",
      " dense_2 (Dense)             (None, 1024)              2098176   \n",
      "                                                                 \n",
      " dropout_10 (Dropout)        (None, 1024)              0         \n",
      "                                                                 \n",
      " dense_3 (Dense)             (None, 512)               524800    \n",
      "                                                                 \n",
      " dropout_11 (Dropout)        (None, 512)               0         \n",
      "                                                                 \n",
      " dense_4 (Dense)             (None, 10)                5130      \n",
      "                                                                 \n",
      "=================================================================\n",
      "Total params: 2,915,114\n",
      "Trainable params: 2,915,114\n",
      "Non-trainable params: 0\n",
      "_________________________________________________________________\n",
      "None\n"
     ]
    }
   ],
   "source": [
    "print(model.summary())"
   ]
  },
  {
   "cell_type": "code",
   "execution_count": 17,
   "id": "905ad13e",
   "metadata": {},
   "outputs": [],
   "source": [
    "# Compile model \n",
    "epochs=50\n",
    "lrate = 0.01 \n",
    "decay = lrate/epochs \n",
    "sgd = SGD(lr=lrate, momentum=0.9, decay=decay, nesterov=False) \n",
    "model.compile(loss='categorical_crossentropy', optimizer=sgd, metrics=['accuracy'])"
   ]
  },
  {
   "cell_type": "code",
   "execution_count": 18,
   "id": "f91473d3",
   "metadata": {},
   "outputs": [
    {
     "name": "stdout",
     "output_type": "stream",
     "text": [
      "Epoch 1/50\n",
      "1563/1563 [==============================] - 6519s 4s/step - loss: 1.8741 - accuracy: 0.3045 - val_loss: 1.5128 - val_accuracy: 0.4324\n",
      "Epoch 2/50\n",
      "1563/1563 [==============================] - 426s 273ms/step - loss: 1.4244 - accuracy: 0.4817 - val_loss: 1.2325 - val_accuracy: 0.5526\n",
      "Epoch 3/50\n",
      "1563/1563 [==============================] - 414s 265ms/step - loss: 1.1925 - accuracy: 0.5707 - val_loss: 1.0556 - val_accuracy: 0.6170\n",
      "Epoch 4/50\n",
      "1563/1563 [==============================] - 394s 252ms/step - loss: 1.0241 - accuracy: 0.6349 - val_loss: 0.9004 - val_accuracy: 0.6870\n",
      "Epoch 5/50\n",
      "1563/1563 [==============================] - 398s 254ms/step - loss: 0.8943 - accuracy: 0.6840 - val_loss: 0.8373 - val_accuracy: 0.7072\n",
      "Epoch 6/50\n",
      "1563/1563 [==============================] - 417s 267ms/step - loss: 0.8039 - accuracy: 0.7173 - val_loss: 0.7641 - val_accuracy: 0.7364\n",
      "Epoch 7/50\n",
      "1563/1563 [==============================] - 394s 252ms/step - loss: 0.7225 - accuracy: 0.7441 - val_loss: 0.7308 - val_accuracy: 0.7439\n",
      "Epoch 8/50\n",
      "1563/1563 [==============================] - 384s 246ms/step - loss: 0.6663 - accuracy: 0.7650 - val_loss: 0.6911 - val_accuracy: 0.7614\n",
      "Epoch 9/50\n",
      "1563/1563 [==============================] - 376s 240ms/step - loss: 0.6116 - accuracy: 0.7830 - val_loss: 0.6937 - val_accuracy: 0.7625\n",
      "Epoch 10/50\n",
      "1563/1563 [==============================] - 378s 242ms/step - loss: 0.5685 - accuracy: 0.7997 - val_loss: 0.6503 - val_accuracy: 0.7793\n",
      "Epoch 11/50\n",
      "1563/1563 [==============================] - 407s 260ms/step - loss: 0.5250 - accuracy: 0.8129 - val_loss: 0.6648 - val_accuracy: 0.7739\n",
      "Epoch 12/50\n",
      "1563/1563 [==============================] - 488s 312ms/step - loss: 0.4956 - accuracy: 0.8245 - val_loss: 0.6220 - val_accuracy: 0.7913\n",
      "Epoch 13/50\n",
      "1563/1563 [==============================] - 476s 305ms/step - loss: 0.4614 - accuracy: 0.8331 - val_loss: 0.6225 - val_accuracy: 0.7917\n",
      "Epoch 14/50\n",
      "1563/1563 [==============================] - 477s 305ms/step - loss: 0.4331 - accuracy: 0.8463 - val_loss: 0.6212 - val_accuracy: 0.7921\n",
      "Epoch 15/50\n",
      "1563/1563 [==============================] - 478s 306ms/step - loss: 0.4031 - accuracy: 0.8557 - val_loss: 0.6198 - val_accuracy: 0.7930\n",
      "Epoch 16/50\n",
      "1563/1563 [==============================] - 509s 326ms/step - loss: 0.3816 - accuracy: 0.8632 - val_loss: 0.6073 - val_accuracy: 0.7952\n",
      "Epoch 17/50\n",
      "1563/1563 [==============================] - 489s 313ms/step - loss: 0.3585 - accuracy: 0.8724 - val_loss: 0.6338 - val_accuracy: 0.7924\n",
      "Epoch 18/50\n",
      "1563/1563 [==============================] - 409s 261ms/step - loss: 0.3350 - accuracy: 0.8807 - val_loss: 0.6001 - val_accuracy: 0.8026\n",
      "Epoch 19/50\n",
      "1563/1563 [==============================] - 382s 244ms/step - loss: 0.3116 - accuracy: 0.8892 - val_loss: 0.6103 - val_accuracy: 0.8036\n",
      "Epoch 20/50\n",
      "1563/1563 [==============================] - 401s 257ms/step - loss: 0.2949 - accuracy: 0.8951 - val_loss: 0.6205 - val_accuracy: 0.8052\n",
      "Epoch 21/50\n",
      "1563/1563 [==============================] - 382s 244ms/step - loss: 0.2830 - accuracy: 0.8982 - val_loss: 0.6256 - val_accuracy: 0.8057\n",
      "Epoch 22/50\n",
      "1563/1563 [==============================] - 382s 245ms/step - loss: 0.2671 - accuracy: 0.9042 - val_loss: 0.6296 - val_accuracy: 0.8067\n",
      "Epoch 23/50\n",
      "1563/1563 [==============================] - 382s 245ms/step - loss: 0.2473 - accuracy: 0.9108 - val_loss: 0.6290 - val_accuracy: 0.8091\n",
      "Epoch 24/50\n",
      "1563/1563 [==============================] - 385s 246ms/step - loss: 0.2359 - accuracy: 0.9139 - val_loss: 0.6515 - val_accuracy: 0.8029\n",
      "Epoch 25/50\n",
      "1563/1563 [==============================] - 416s 266ms/step - loss: 0.2233 - accuracy: 0.9193 - val_loss: 0.6384 - val_accuracy: 0.8104\n",
      "Epoch 26/50\n",
      "1563/1563 [==============================] - 373s 238ms/step - loss: 0.2157 - accuracy: 0.9230 - val_loss: 0.6404 - val_accuracy: 0.8102\n",
      "Epoch 27/50\n",
      "1563/1563 [==============================] - 375s 240ms/step - loss: 0.2018 - accuracy: 0.9266 - val_loss: 0.6682 - val_accuracy: 0.8120\n",
      "Epoch 28/50\n",
      "1563/1563 [==============================] - 371s 237ms/step - loss: 0.1942 - accuracy: 0.9307 - val_loss: 0.6745 - val_accuracy: 0.8098\n",
      "Epoch 29/50\n",
      "1563/1563 [==============================] - 389s 249ms/step - loss: 0.1847 - accuracy: 0.9346 - val_loss: 0.6675 - val_accuracy: 0.8092\n",
      "Epoch 30/50\n",
      "1563/1563 [==============================] - 377s 241ms/step - loss: 0.1789 - accuracy: 0.9349 - val_loss: 0.6800 - val_accuracy: 0.8090\n",
      "Epoch 31/50\n",
      "1563/1563 [==============================] - 377s 241ms/step - loss: 0.1703 - accuracy: 0.9394 - val_loss: 0.6660 - val_accuracy: 0.8122\n",
      "Epoch 32/50\n",
      "1563/1563 [==============================] - 383s 245ms/step - loss: 0.1626 - accuracy: 0.9419 - val_loss: 0.7090 - val_accuracy: 0.8122\n",
      "Epoch 33/50\n",
      "1563/1563 [==============================] - 381s 244ms/step - loss: 0.1557 - accuracy: 0.9449 - val_loss: 0.6951 - val_accuracy: 0.8150\n",
      "Epoch 34/50\n",
      "1563/1563 [==============================] - 382s 245ms/step - loss: 0.1480 - accuracy: 0.9467 - val_loss: 0.7202 - val_accuracy: 0.8094\n",
      "Epoch 35/50\n",
      "1563/1563 [==============================] - 385s 246ms/step - loss: 0.1430 - accuracy: 0.9497 - val_loss: 0.7046 - val_accuracy: 0.8152\n",
      "Epoch 36/50\n",
      "1563/1563 [==============================] - 386s 247ms/step - loss: 0.1408 - accuracy: 0.9505 - val_loss: 0.7051 - val_accuracy: 0.8140\n",
      "Epoch 37/50\n",
      "1563/1563 [==============================] - 385s 246ms/step - loss: 0.1337 - accuracy: 0.9525 - val_loss: 0.7004 - val_accuracy: 0.8160\n",
      "Epoch 38/50\n",
      "1563/1563 [==============================] - 389s 249ms/step - loss: 0.1269 - accuracy: 0.9550 - val_loss: 0.7193 - val_accuracy: 0.8128\n",
      "Epoch 39/50\n",
      "1563/1563 [==============================] - 386s 247ms/step - loss: 0.1247 - accuracy: 0.9554 - val_loss: 0.7105 - val_accuracy: 0.8172\n",
      "Epoch 40/50\n",
      "1563/1563 [==============================] - 386s 247ms/step - loss: 0.1205 - accuracy: 0.9581 - val_loss: 0.7215 - val_accuracy: 0.8147\n",
      "Epoch 41/50\n",
      "1563/1563 [==============================] - 385s 247ms/step - loss: 0.1197 - accuracy: 0.9565 - val_loss: 0.7353 - val_accuracy: 0.8155\n",
      "Epoch 42/50\n",
      "1563/1563 [==============================] - 390s 250ms/step - loss: 0.1147 - accuracy: 0.9584 - val_loss: 0.7163 - val_accuracy: 0.8144\n",
      "Epoch 43/50\n",
      "1563/1563 [==============================] - 387s 247ms/step - loss: 0.1074 - accuracy: 0.9613 - val_loss: 0.7489 - val_accuracy: 0.8141\n",
      "Epoch 44/50\n",
      "1563/1563 [==============================] - 386s 247ms/step - loss: 0.1085 - accuracy: 0.9616 - val_loss: 0.7217 - val_accuracy: 0.8206\n",
      "Epoch 45/50\n",
      "1563/1563 [==============================] - 386s 247ms/step - loss: 0.1024 - accuracy: 0.9631 - val_loss: 0.7342 - val_accuracy: 0.8183\n",
      "Epoch 46/50\n",
      "1563/1563 [==============================] - 386s 247ms/step - loss: 0.1013 - accuracy: 0.9638 - val_loss: 0.7353 - val_accuracy: 0.8151\n",
      "Epoch 47/50\n",
      "1563/1563 [==============================] - 384s 246ms/step - loss: 0.0981 - accuracy: 0.9657 - val_loss: 0.7395 - val_accuracy: 0.8206\n",
      "Epoch 48/50\n",
      "1563/1563 [==============================] - 385s 246ms/step - loss: 0.0942 - accuracy: 0.9669 - val_loss: 0.7420 - val_accuracy: 0.8204\n",
      "Epoch 49/50\n",
      "1563/1563 [==============================] - 386s 247ms/step - loss: 0.0959 - accuracy: 0.9670 - val_loss: 0.7349 - val_accuracy: 0.8242\n",
      "Epoch 50/50\n",
      "1563/1563 [==============================] - 387s 248ms/step - loss: 0.0875 - accuracy: 0.9697 - val_loss: 0.7559 - val_accuracy: 0.8207\n",
      "Accuracy: 82.07%\n"
     ]
    }
   ],
   "source": [
    "model.fit(X_train, y_train, validation_data=(X_test, y_test), epochs=50, batch_size=32) \n",
    "# Final evaluation of the model \n",
    "scores = model.evaluate(X_test, y_test, verbose=0) \n",
    "print(\"Accuracy: %.2f%%\" % (scores[1]*100))"
   ]
  },
  {
   "cell_type": "code",
   "execution_count": 19,
   "id": "a6daf7b3",
   "metadata": {},
   "outputs": [],
   "source": [
    "from keras.models import load_model \n",
    "model.save('project_model.h5')"
   ]
  },
  {
   "cell_type": "code",
   "execution_count": 20,
   "id": "128d84dd",
   "metadata": {},
   "outputs": [],
   "source": [
    "#loading the saved model \n",
    "from keras.models import load_model \n",
    "model = load_model('project_model.h5')"
   ]
  },
  {
   "cell_type": "code",
   "execution_count": 36,
   "id": "20ad0b24",
   "metadata": {},
   "outputs": [],
   "source": [
    "import numpy as np \n",
    "import keras\n",
    "import tensorflow as tf\n",
    "from keras.preprocessing import image\n",
    "# Give the link of the image here to test \n",
    "test_image1 =keras.utils.load_img(r\"E:\\Desktop\\Automobile.jpg\",target_size =(32,32))"
   ]
  },
  {
   "cell_type": "code",
   "execution_count": 41,
   "id": "a69162eb",
   "metadata": {},
   "outputs": [
    {
     "name": "stdout",
     "output_type": "stream",
     "text": [
      "1/1 [==============================] - 1s 502ms/step\n",
      "[[0. 1. 0. 0. 0. 0. 0. 0. 0. 0.]]\n",
      "Automobile\n"
     ]
    }
   ],
   "source": [
    "import numpy as np \n",
    "import keras\n",
    "import tensorflow as tf\n",
    "from keras.preprocessing import image\n",
    "test_image =tf.keras.preprocessing.image.img_to_array(test_image1) \n",
    "test_image =np.expand_dims(test_image, axis =0) \n",
    "result = model.predict(test_image) \n",
    "print(result) \n",
    "if result[0][0]==1: \n",
    "    print(\"Aeroplane\") \n",
    "elif result[0][1]==1: \n",
    "    print('Automobile') \n",
    "elif result[0][2]==1: \n",
    "    print('Bird') \n",
    "elif result[0][3]==1: \n",
    "    print('Cat') \n",
    "elif result[0][4]==1: \n",
    "    print('Deer') \n",
    "elif result[0][5]==1: \n",
    "    print('Dog') \n",
    "elif result[0][6]==1: \n",
    "    print('Frog') \n",
    "elif result[0][7]==1: \n",
    "    print('Horse') \n",
    "elif result[0][8]==1: \n",
    "    print('Ship') \n",
    "elif result[0][9]==1: \n",
    "    print('Truck') \n",
    "else: \n",
    "    print('Error')"
   ]
  },
  {
   "cell_type": "code",
   "execution_count": 34,
   "id": "b6dcc936",
   "metadata": {},
   "outputs": [
    {
     "data": {
      "text/plain": [
       "<matplotlib.image.AxesImage at 0x1fd0900b6d0>"
      ]
     },
     "execution_count": 34,
     "metadata": {},
     "output_type": "execute_result"
    },
    {
     "data": {
      "image/png": "[encoded data removed]",
      "text/plain": [
       "<Figure size 432x288 with 1 Axes>"
      ]
     },
     "metadata": {
      "needs_background": "light"
     },
     "output_type": "display_data"
    }
   ],
   "source": [
    "%matplotlib inline \n",
    "import matplotlib.pyplot as plt \n",
    "plt.imshow(test_image1)"
   ]
  },
  {
   "cell_type": "code",
   "execution_count": 46,
   "id": "96b52eae",
   "metadata": {},
   "outputs": [],
   "source": [
    "import numpy as np \n",
    "import keras\n",
    "import tensorflow as tf\n",
    "from keras.preprocessing import image\n",
    "# Give the link of the image here to test \n",
    "test_image1 =keras.utils.load_img(r\"E:\\Desktop\\truck.jpg\",target_size =(32,32))"
   ]
  },
  {
   "cell_type": "code",
   "execution_count": 47,
   "id": "ce70855e",
   "metadata": {},
   "outputs": [
    {
     "name": "stdout",
     "output_type": "stream",
     "text": [
      "1/1 [==============================] - 0s 40ms/step\n",
      "[[0. 0. 0. 0. 0. 0. 0. 0. 0. 1.]]\n",
      "Truck\n"
     ]
    }
   ],
   "source": [
    "import numpy as np \n",
    "import keras\n",
    "import tensorflow as tf\n",
    "from keras.preprocessing import image\n",
    "test_image =tf.keras.preprocessing.image.img_to_array(test_image1) \n",
    "test_image =np.expand_dims(test_image, axis =0) \n",
    "result = model.predict(test_image) \n",
    "print(result) \n",
    "if result[0][0]==1: \n",
    "    print(\"Aeroplane\") \n",
    "elif result[0][1]==1: \n",
    "    print('Automobile') \n",
    "elif result[0][2]==1: \n",
    "    print('Bird') \n",
    "elif result[0][3]==1: \n",
    "    print('Cat') \n",
    "elif result[0][4]==1: \n",
    "    print('Deer') \n",
    "elif result[0][5]==1: \n",
    "    print('Dog') \n",
    "elif result[0][6]==1: \n",
    "    print('Frog') \n",
    "elif result[0][7]==1: \n",
    "    print('Horse') \n",
    "elif result[0][8]==1: \n",
    "    print('Ship') \n",
    "elif result[0][9]==1: \n",
    "    print('Truck') \n",
    "else: \n",
    "    print('Error')"
   ]
  },
  {
   "cell_type": "code",
   "execution_count": 48,
   "id": "f0a9445b",
   "metadata": {},
   "outputs": [
    {
     "data": {
      "text/plain": [
       "<matplotlib.image.AxesImage at 0x1fd090a26d0>"
      ]
     },
     "execution_count": 48,
     "metadata": {},
     "output_type": "execute_result"
    },
    {
     "data": {
      "image/png": "[encoded data removed]",
      "text/plain": [
       "<Figure size 432x288 with 1 Axes>"
      ]
     },
     "metadata": {
      "needs_background": "light"
     },
     "output_type": "display_data"
    }
   ],
   "source": [
    "%matplotlib inline \n",
    "import matplotlib.pyplot as plt \n",
    "plt.imshow(test_image1)"
   ]
  },
  {
   "cell_type": "code",
   "execution_count": 49,
   "id": "97ca1db4",
   "metadata": {},
   "outputs": [],
   "source": [
    "import numpy as np \n",
    "import keras\n",
    "import tensorflow as tf\n",
    "from keras.preprocessing import image\n",
    "# Give the link of the image here to test \n",
    "test_image1 =keras.utils.load_img(r\"E:\\Desktop\\Aeroplane.jpg\",target_size =(32,32))"
   ]
  },
  {
   "cell_type": "code",
   "execution_count": 50,
   "id": "519e8762",
   "metadata": {},
   "outputs": [
    {
     "name": "stdout",
     "output_type": "stream",
     "text": [
      "1/1 [==============================] - 0s 32ms/step\n",
      "[[1. 0. 0. 0. 0. 0. 0. 0. 0. 0.]]\n",
      "Aeroplane\n"
     ]
    }
   ],
   "source": [
    "import numpy as np \n",
    "import keras\n",
    "import tensorflow as tf\n",
    "from keras.preprocessing import image\n",
    "test_image =tf.keras.preprocessing.image.img_to_array(test_image1) \n",
    "test_image =np.expand_dims(test_image, axis =0) \n",
    "result = model.predict(test_image) \n",
    "print(result) \n",
    "if result[0][0]==1: \n",
    "    print(\"Aeroplane\") \n",
    "elif result[0][1]==1: \n",
    "    print('Automobile') \n",
    "elif result[0][2]==1: \n",
    "    print('Bird') \n",
    "elif result[0][3]==1: \n",
    "    print('Cat') \n",
    "elif result[0][4]==1: \n",
    "    print('Deer') \n",
    "elif result[0][5]==1: \n",
    "    print('Dog') \n",
    "elif result[0][6]==1: \n",
    "    print('Frog') \n",
    "elif result[0][7]==1: \n",
    "    print('Horse') \n",
    "elif result[0][8]==1: \n",
    "    print('Ship') \n",
    "elif result[0][9]==1: \n",
    "    print('Truck') \n",
    "else: \n",
    "    print('Error')"
   ]
  },
  {
   "cell_type": "code",
   "execution_count": 51,
   "id": "25232fbb",
   "metadata": {},
   "outputs": [
    {
     "data": {
      "text/plain": [
       "<matplotlib.image.AxesImage at 0x1fd09450430>"
      ]
     },
     "execution_count": 51,
     "metadata": {},
     "output_type": "execute_result"
    },
    {
     "data": {
      "image/png": "[encoded data removed]",
      "text/plain": [
       "<Figure size 432x288 with 1 Axes>"
      ]
     },
     "metadata": {
      "needs_background": "light"
     },
     "output_type": "display_data"
    }
   ],
   "source": [
    "%matplotlib inline \n",
    "import matplotlib.pyplot as plt \n",
    "plt.imshow(test_image1)"
   ]
  },
  {
   "cell_type": "code",
   "execution_count": 52,
   "id": "4d31d0ef",
   "metadata": {},
   "outputs": [],
   "source": [
    "import numpy as np \n",
    "import keras\n",
    "import tensorflow as tf\n",
    "from keras.preprocessing import image\n",
    "# Give the link of the image here to test \n",
    "test_image1 =keras.utils.load_img(r\"E:\\Desktop\\Ship.jpg\",target_size =(32,32))"
   ]
  },
  {
   "cell_type": "code",
   "execution_count": 53,
   "id": "6ea3340d",
   "metadata": {},
   "outputs": [
    {
     "name": "stdout",
     "output_type": "stream",
     "text": [
      "1/1 [==============================] - 0s 40ms/step\n",
      "[[0. 0. 0. 0. 0. 0. 0. 0. 1. 0.]]\n",
      "Ship\n"
     ]
    }
   ],
   "source": [
    "import numpy as np \n",
    "import keras\n",
    "import tensorflow as tf\n",
    "from keras.preprocessing import image\n",
    "test_image =tf.keras.preprocessing.image.img_to_array(test_image1) \n",
    "test_image =np.expand_dims(test_image, axis =0) \n",
    "result = model.predict(test_image) \n",
    "print(result) \n",
    "if result[0][0]==1: \n",
    "    print(\"Aeroplane\") \n",
    "elif result[0][1]==1: \n",
    "    print('Automobile') \n",
    "elif result[0][2]==1: \n",
    "    print('Bird') \n",
    "elif result[0][3]==1: \n",
    "    print('Cat') \n",
    "elif result[0][4]==1: \n",
    "    print('Deer') \n",
    "elif result[0][5]==1: \n",
    "    print('Dog') \n",
    "elif result[0][6]==1: \n",
    "    print('Frog') \n",
    "elif result[0][7]==1: \n",
    "    print('Horse') \n",
    "elif result[0][8]==1: \n",
    "    print('Ship') \n",
    "elif result[0][9]==1: \n",
    "    print('Truck') \n",
    "else: \n",
    "    print('Error')"
   ]
  },
  {
   "cell_type": "code",
   "execution_count": 54,
   "id": "5b116025",
   "metadata": {},
   "outputs": [
    {
     "data": {
      "text/plain": [
       "<matplotlib.image.AxesImage at 0x1fd094a5ca0>"
      ]
     },
     "execution_count": 54,
     "metadata": {},
     "output_type": "execute_result"
    },
    {
     "data": {
      "image/png": "[encoded data removed]",
      "text/plain": [
       "<Figure size 432x288 with 1 Axes>"
      ]
     },
     "metadata": {
      "needs_background": "light"
     },
     "output_type": "display_data"
    }
   ],
   "source": [
    "%matplotlib inline \n",
    "import matplotlib.pyplot as plt \n",
    "plt.imshow(test_image1)"
   ]
  },
  {
   "cell_type": "code",
   "execution_count": 61,
   "id": "e2504abe",
   "metadata": {
    "scrolled": true
   },
   "outputs": [
    {
     "name": "stdout",
     "output_type": "stream",
     "text": [
      "1/1 [==============================] - 0s 32ms/step\n",
      "[[0. 0. 1. 0. 0. 0. 0. 0. 0. 0.]]\n",
      "Bird\n"
     ]
    }
   ],
   "source": [
    "import numpy as np \n",
    "import keras\n",
    "import tensorflow as tf\n",
    "from keras.preprocessing import image\n",
    "# Give the link of the image here to test \n",
    "test_image1 =keras.utils.load_img(r\"E:\\Desktop\\Bird.jpg\",target_size =(32,32))\n",
    "test_image =tf.keras.preprocessing.image.img_to_array(test_image1) \n",
    "test_image =np.expand_dims(test_image, axis =0) \n",
    "result = model.predict(test_image) \n",
    "print(result) \n",
    "if result[0][0]==1: \n",
    "    print(\"Aeroplane\") \n",
    "elif result[0][1]==1: \n",
    "    print('Automobile') \n",
    "elif result[0][2]==1: \n",
    "    print('Bird') \n",
    "elif result[0][3]==1: \n",
    "    print('Cat') \n",
    "elif result[0][4]==1: \n",
    "    print('Deer') \n",
    "elif result[0][5]==1: \n",
    "    print('Dog') \n",
    "elif result[0][6]==1: \n",
    "    print('Frog') \n",
    "elif result[0][7]==1: \n",
    "    print('Horse') \n",
    "elif result[0][8]==1: \n",
    "    print('Ship') \n",
    "elif result[0][9]==1: \n",
    "    print('Truck') \n",
    "else: \n",
    "    print('Error')"
   ]
  },
  {
   "cell_type": "code",
   "execution_count": 62,
   "id": "e16e7284",
   "metadata": {},
   "outputs": [
    {
     "data": {
      "text/plain": [
       "<matplotlib.image.AxesImage at 0x1fd094e90a0>"
      ]
     },
     "execution_count": 62,
     "metadata": {},
     "output_type": "execute_result"
    },
    {
     "data": {
      "image/png": "[encoded data removed]",
      "text/plain": [
       "<Figure size 432x288 with 1 Axes>"
      ]
     },
     "metadata": {
      "needs_background": "light"
     },
     "output_type": "display_data"
    }
   ],
   "source": [
    "%matplotlib inline \n",
    "import matplotlib.pyplot as plt \n",
    "plt.imshow(test_image1)"
   ]
  },
  {
   "cell_type": "code",
   "execution_count": 63,
   "id": "67714c89",
   "metadata": {},
   "outputs": [
    {
     "name": "stdout",
     "output_type": "stream",
     "text": [
      "1/1 [==============================] - 0s 25ms/step\n",
      "[[0. 0. 0. 0. 0. 0. 0. 1. 0. 0.]]\n",
      "Horse\n"
     ]
    }
   ],
   "source": [
    "import numpy as np \n",
    "import keras\n",
    "import tensorflow as tf\n",
    "from keras.preprocessing import image\n",
    "# Give the link of the image here to test \n",
    "test_image1 =keras.utils.load_img(r\"E:\\Desktop\\horse.jpg\",target_size =(32,32))\n",
    "test_image =tf.keras.preprocessing.image.img_to_array(test_image1) \n",
    "test_image =np.expand_dims(test_image, axis =0) \n",
    "result = model.predict(test_image) \n",
    "print(result) \n",
    "if result[0][0]==1: \n",
    "    print(\"Aeroplane\") \n",
    "elif result[0][1]==1: \n",
    "    print('Automobile') \n",
    "elif result[0][2]==1: \n",
    "    print('Bird') \n",
    "elif result[0][3]==1: \n",
    "    print('Cat') \n",
    "elif result[0][4]==1: \n",
    "    print('Deer') \n",
    "elif result[0][5]==1: \n",
    "    print('Dog') \n",
    "elif result[0][6]==1: \n",
    "    print('Frog') \n",
    "elif result[0][7]==1: \n",
    "    print('Horse') \n",
    "elif result[0][8]==1: \n",
    "    print('Ship') \n",
    "elif result[0][9]==1: \n",
    "    print('Truck') \n",
    "else: \n",
    "    print('Error')"
   ]
  },
  {
   "cell_type": "code",
   "execution_count": 64,
   "id": "379ce3db",
   "metadata": {},
   "outputs": [
    {
     "data": {
      "text/plain": [
       "<matplotlib.image.AxesImage at 0x1fd095bc250>"
      ]
     },
     "execution_count": 64,
     "metadata": {},
     "output_type": "execute_result"
    },
    {
     "data": {
      "image/png": "[encoded data removed]",
      "text/plain": [
       "<Figure size 432x288 with 1 Axes>"
      ]
     },
     "metadata": {
      "needs_background": "light"
     },
     "output_type": "display_data"
    }
   ],
   "source": [
    "%matplotlib inline \n",
    "import matplotlib.pyplot as plt \n",
    "plt.imshow(test_image1)"
   ]
  },
  {
   "cell_type": "code",
   "execution_count": 65,
   "id": "d35c4fb5",
   "metadata": {},
   "outputs": [
    {
     "name": "stdout",
     "output_type": "stream",
     "text": [
      "1/1 [==============================] - 0s 32ms/step\n",
      "[[0. 0. 0. 0. 0. 0. 1. 0. 0. 0.]]\n",
      "Frog\n"
     ]
    }
   ],
   "source": [
    "import numpy as np \n",
    "import keras\n",
    "import tensorflow as tf\n",
    "from keras.preprocessing import image\n",
    "# Give the link of the image here to test \n",
    "test_image1 =keras.utils.load_img(r\"E:\\Desktop\\frog.jpg\",target_size =(32,32))\n",
    "test_image =tf.keras.preprocessing.image.img_to_array(test_image1) \n",
    "test_image =np.expand_dims(test_image, axis =0) \n",
    "result = model.predict(test_image) \n",
    "print(result) \n",
    "if result[0][0]==1: \n",
    "    print(\"Aeroplane\") \n",
    "elif result[0][1]==1: \n",
    "    print('Automobile') \n",
    "elif result[0][2]==1: \n",
    "    print('Bird') \n",
    "elif result[0][3]==1: \n",
    "    print('Cat') \n",
    "elif result[0][4]==1: \n",
    "    print('Deer') \n",
    "elif result[0][5]==1: \n",
    "    print('Dog') \n",
    "elif result[0][6]==1: \n",
    "    print('Frog') \n",
    "elif result[0][7]==1: \n",
    "    print('Horse') \n",
    "elif result[0][8]==1: \n",
    "    print('Ship') \n",
    "elif result[0][9]==1: \n",
    "    print('Truck') \n",
    "else: \n",
    "    print('Error')"
   ]
  },
  {
   "cell_type": "code",
   "execution_count": 66,
   "id": "16738b75",
   "metadata": {},
   "outputs": [
    {
     "data": {
      "text/plain": [
       "<matplotlib.image.AxesImage at 0x1fd09609b80>"
      ]
     },
     "execution_count": 66,
     "metadata": {},
     "output_type": "execute_result"
    },
    {
     "data": {
      "image/png": "[encoded data removed]",
      "text/plain": [
       "<Figure size 432x288 with 1 Axes>"
      ]
     },
     "metadata": {
      "needs_background": "light"
     },
     "output_type": "display_data"
    }
   ],
   "source": [
    "%matplotlib inline \n",
    "import matplotlib.pyplot as plt \n",
    "plt.imshow(test_image1)"
   ]
  },
  {
   "cell_type": "code",
   "execution_count": 68,
   "id": "c6d6f2a6",
   "metadata": {},
   "outputs": [
    {
     "name": "stdout",
     "output_type": "stream",
     "text": [
      "1/1 [==============================] - 0s 40ms/step\n",
      "[[0. 0. 0. 1. 0. 0. 0. 0. 0. 0.]]\n",
      "Cat\n"
     ]
    }
   ],
   "source": [
    "import numpy as np \n",
    "import keras\n",
    "import tensorflow as tf\n",
    "from keras.preprocessing import image\n",
    "# Give the link of the image here to test \n",
    "test_image1 =keras.utils.load_img(r\"E:\\Desktop\\ccaty.jpg\",target_size =(32,32))\n",
    "test_image =tf.keras.preprocessing.image.img_to_array(test_image1) \n",
    "test_image =np.expand_dims(test_image, axis =0) \n",
    "result = model.predict(test_image) \n",
    "print(result) \n",
    "if result[0][0]==1: \n",
    "    print(\"Aeroplane\") \n",
    "elif result[0][1]==1: \n",
    "    print('Automobile') \n",
    "elif result[0][2]==1: \n",
    "    print('Bird') \n",
    "elif result[0][3]==1: \n",
    "    print('Cat') \n",
    "elif result[0][4]==1: \n",
    "    print('Deer') \n",
    "elif result[0][5]==1: \n",
    "    print('Dog') \n",
    "elif result[0][6]==1: \n",
    "    print('Frog') \n",
    "elif result[0][7]==1: \n",
    "    print('Horse') \n",
    "elif result[0][8]==1: \n",
    "    print('Ship') \n",
    "elif result[0][9]==1: \n",
    "    print('Truck') \n",
    "else: \n",
    "    print('Error')"
   ]
  },
  {
   "cell_type": "code",
   "execution_count": 69,
   "id": "04128003",
   "metadata": {},
   "outputs": [
    {
     "data": {
      "text/plain": [
       "<matplotlib.image.AxesImage at 0x1fd09672580>"
      ]
     },
     "execution_count": 69,
     "metadata": {},
     "output_type": "execute_result"
    },
    {
     "data": {
      "image/png": "[encoded data removed]",
      "text/plain": [
       "<Figure size 432x288 with 1 Axes>"
      ]
     },
     "metadata": {
      "needs_background": "light"
     },
     "output_type": "display_data"
    }
   ],
   "source": [
    "%matplotlib inline \n",
    "import matplotlib.pyplot as plt \n",
    "plt.imshow(test_image1)"
   ]
  },
  {
   "cell_type": "code",
   "execution_count": 71,
   "id": "cf1752c5",
   "metadata": {},
   "outputs": [
    {
     "name": "stdout",
     "output_type": "stream",
     "text": [
      "1/1 [==============================] - 0s 32ms/step\n",
      "[[0. 0. 0. 0. 1. 0. 0. 0. 0. 0.]]\n",
      "Deer\n"
     ]
    }
   ],
   "source": [
    "import numpy as np \n",
    "import keras\n",
    "import tensorflow as tf\n",
    "from keras.preprocessing import image\n",
    "# Give the link of the image here to test \n",
    "test_image1 =keras.utils.load_img(r\"E:\\Desktop\\df.jpg\",target_size =(32,32))\n",
    "test_image =tf.keras.preprocessing.image.img_to_array(test_image1) \n",
    "test_image =np.expand_dims(test_image, axis =0) \n",
    "result = model.predict(test_image) \n",
    "print(result) \n",
    "if result[0][0]==1: \n",
    "    print(\"Aeroplane\") \n",
    "elif result[0][1]==1: \n",
    "    print('Automobile') \n",
    "elif result[0][2]==1: \n",
    "    print('Bird') \n",
    "elif result[0][3]==1: \n",
    "    print('Cat') \n",
    "elif result[0][4]==1: \n",
    "    print('Deer') \n",
    "elif result[0][5]==1: \n",
    "    print('Dog') \n",
    "elif result[0][6]==1: \n",
    "    print('Frog') \n",
    "elif result[0][7]==1: \n",
    "    print('Horse') \n",
    "elif result[0][8]==1: \n",
    "    print('Ship') \n",
    "elif result[0][9]==1: \n",
    "    print('Truck') \n",
    "else: \n",
    "    print('Error')"
   ]
  },
  {
   "cell_type": "code",
   "execution_count": 72,
   "id": "7fc1f136",
   "metadata": {},
   "outputs": [
    {
     "data": {
      "text/plain": [
       "<matplotlib.image.AxesImage at 0x1fd096fb4f0>"
      ]
     },
     "execution_count": 72,
     "metadata": {},
     "output_type": "execute_result"
    },
    {
     "data": {
      "image/png": "[encoded data removed]",
      "text/plain": [
       "<Figure size 432x288 with 1 Axes>"
      ]
     },
     "metadata": {
      "needs_background": "light"
     },
     "output_type": "display_data"
    }
   ],
   "source": [
    "%matplotlib inline \n",
    "import matplotlib.pyplot as plt \n",
    "plt.imshow(test_image1)"
   ]
  },
  {
   "cell_type": "code",
   "execution_count": null,
   "id": "4e96ea11",
   "metadata": {},
   "outputs": [],
   "source": []
  }
 ],
 "metadata": {
  "kernelspec": {
   "display_name": "Python 3 (ipykernel)",
   "language": "python",
   "name": "python3"
  },
  "language_info": {
   "codemirror_mode": {
    "name": "ipython",
    "version": 3
   },
   "file_extension": ".py",
   "mimetype": "text/x-python",
   "name": "python",
   "nbconvert_exporter": "python",
   "pygments_lexer": "ipython3",
   "version": "3.9.12"
  }
 },
 "nbformat": 4,
 "nbformat_minor": 5
}
